{
 "cells": [
  {
   "cell_type": "markdown",
   "metadata": {},
   "source": [
    "# Agentic AI based Portfolio Manager\n",
    "## Powered by IBM Watsonx using Langgraph supervisor and agents\n",
    "##### Thanks to Adarsh Balan @ Analytics Vidya https://www.analyticsvidhya.com/blog/2025/02/financial-market-analysis-ai-agent/"
   ]
  },
  {
   "cell_type": "code",
   "execution_count": 1,
   "metadata": {},
   "outputs": [],
   "source": [
    "#imports\n",
    "\n",
    "import os\n",
    "from dotenv import load_dotenv\n",
    "\n"
   ]
  },
  {
   "cell_type": "markdown",
   "metadata": {},
   "source": [
    "## Connect to watsonx"
   ]
  },
  {
   "cell_type": "code",
   "execution_count": 2,
   "metadata": {},
   "outputs": [],
   "source": [
    "#### Connect to watsonx\n",
    "from langchain_ibm import ChatWatsonx\n",
    "load_dotenv()\n",
    "# Required\n",
    "WATSONX_URL=os.getenv(\"WATSONX_URL\")\n",
    "WATSONX_API_KEY=os.getenv(\"WATSONX_API_KEY\")\n",
    "WATSONX_APIKEY=os.getenv(\"WATSONX_API_KEY\")\n",
    "WX_API_KEY = os.getenv(\"WATSONX_API_KEY\")\n",
    "WATSONX_PROJECT_ID=os.getenv(\"PROJECT_ID\")\n",
    "\n",
    "parameters = {\n",
    "    \"temperature\": 0.9,\n",
    "    \"max_tokens\": 200,\n",
    "}\n",
    "\n",
    "model = ChatWatsonx(\n",
    "    model_id=\"ibm/granite-3-8b-instruct\",\n",
    "    url=\"https://us-south.ml.cloud.ibm.com\",\n",
    "    project_id=WATSONX_PROJECT_ID,\n",
    "    params=parameters,\n",
    ")\n",
    "\n"
   ]
  },
  {
   "cell_type": "markdown",
   "metadata": {},
   "source": [
    "## Write the tools needed Fetch market data, analyse sentiments, compute quant metrics, decide investment strategy"
   ]
  },
  {
   "cell_type": "code",
   "execution_count": 3,
   "metadata": {},
   "outputs": [],
   "source": [
    "# 1. Fetching Market Data\n",
    "def fetch_market_data(stock_symbol: str) -> dict:\n",
    "    \"\"\"Simulate fetching stock market data for a given symbol.\"\"\"\n",
    "    market_data = {\n",
    "        \"AAPL\": {\"price\": 185.22, \"pe_ratio\": 28.3, \"eps\": 6.5, \"revenue_growth\": 8.5},\n",
    "        \"GOOG\": {\"price\": 142.11, \"pe_ratio\": 26.1, \"eps\": 5.8, \"revenue_growth\": 7.9},\n",
    "        \"TSLA\": {\"price\": 220.34, \"pe_ratio\": 40.2, \"eps\": 3.5, \"revenue_growth\": 6.2},\n",
    "    }\n",
    "    return market_data.get(stock_symbol, {})"
   ]
  },
  {
   "cell_type": "code",
   "execution_count": 4,
   "metadata": {},
   "outputs": [],
   "source": [
    "# 2. Sentiment Analysis\n",
    "def analyze_sentiment(stock_symbol: str) -> dict:\n",
    "    \"\"\"Perform sentiment analysis on financial news for a stock.\"\"\"\n",
    "    sentiment_scores = {\n",
    "        \"AAPL\": {\"news_sentiment\": \"Positive\", \"social_sentiment\": \"Neutral\"},\n",
    "        \"GOOG\": {\"news_sentiment\": \"Negative\", \"social_sentiment\": \"Positive\"},\n",
    "        \"TSLA\": {\"news_sentiment\": \"Positive\", \"social_sentiment\": \"Negative\"},\n",
    "    }\n",
    "    return sentiment_scores.get(stock_symbol, {})"
   ]
  },
  {
   "cell_type": "code",
   "execution_count": 5,
   "metadata": {},
   "outputs": [],
   "source": [
    "# 3. Quantitative Analysis\n",
    "def compute_quant_metrics(stock_symbol: str) -> dict:\n",
    "    \"\"\"Compute SMA, EMA, and volatility for stock.\"\"\"\n",
    "    quant_metrics = {\n",
    "        \"AAPL\": {\"sma_50\": 180.5, \"ema_50\": 182.1, \"volatility\": 1.9},\n",
    "        \"GOOG\": {\"sma_50\": 140.8, \"ema_50\": 141.3, \"volatility\": 2.1},\n",
    "        \"TSLA\": {\"sma_50\": 215.7, \"ema_50\": 218.2, \"volatility\": 3.5},\n",
    "    }\n",
    "    return quant_metrics.get(stock_symbol, {})"
   ]
  },
  {
   "cell_type": "code",
   "execution_count": 6,
   "metadata": {},
   "outputs": [],
   "source": [
    "# 4. Investment Strategy Decision\n",
    "def investment_strategy(stock_symbol: str, market_data: dict, sentiment: dict, quant: dict) -> str:\n",
    "    \"\"\"Analyze data and generate buy/sell/hold recommendation.\"\"\"\n",
    "    if not market_data or not sentiment or not quant:\n",
    "        return \"Not enough data for recommendation.\"\n",
    "\n",
    "    decision = \"Hold\"\n",
    "    if market_data[\"pe_ratio\"] < 30 and sentiment[\"news_sentiment\"] == \"Positive\" and quant[\"volatility\"] < 2:\n",
    "        decision = \"Buy\"\n",
    "    elif market_data[\"pe_ratio\"] > 35 or sentiment[\"news_sentiment\"] == \"Negative\":\n",
    "        decision = \"Sell\"\n",
    "\n",
    "    return f\"Recommended Action for {stock_symbol}: {decision}\""
   ]
  },
  {
   "cell_type": "markdown",
   "metadata": {},
   "source": [
    "## Define the react and supervisor agents"
   ]
  },
  {
   "cell_type": "code",
   "execution_count": 12,
   "metadata": {},
   "outputs": [],
   "source": [
    "### --- CREATE AGENTS --- ###\n",
    "from langgraph_supervisor import create_supervisor\n",
    "from langgraph.prebuilt import create_react_agent\n",
    "# Market Data Agent\n",
    "market_data_expert = create_react_agent(\n",
    "    model=model,\n",
    "    tools=[fetch_market_data],\n",
    "    name=\"market_data_expert\",\n",
    "    prompt=\"You are an expert in stock market data. Fetch stock data when requested.\"\n",
    ")\n",
    "\n",
    "# Sentiment Analysis Agent\n",
    "sentiment_expert = create_react_agent(\n",
    "    model=model,\n",
    "    tools=[analyze_sentiment],\n",
    "    name=\"sentiment_expert\",\n",
    "    prompt=\"You analyze financial news and social media sentiment for stock symbols.\"\n",
    ")\n",
    "\n",
    "# Quantitative Analysis Agent\n",
    "quant_expert = create_react_agent(\n",
    "    model=model,\n",
    "    tools=[compute_quant_metrics],\n",
    "    name=\"quant_expert\",\n",
    "    prompt=\"You analyze stock price trends, moving averages, and volatility metrics.\"\n",
    ")\n",
    "\n",
    "# Investment Strategy Agent\n",
    "strategy_expert = create_react_agent(\n",
    "    model=model,\n",
    "    tools=[investment_strategy],\n",
    "    name=\"strategy_expert\",\n",
    "    prompt=\"You make investment recommendations based on market, sentiment, and quant data.\"\n",
    ")\n",
    "\n",
    "### --- SUPERVISOR AGENT --- ###\n",
    "# Create supervisor workflow\n",
    "workflow = create_supervisor(\n",
    "    [ market_data_expert,sentiment_expert,quant_expert , strategy_expert],\n",
    "    model=model,\n",
    "    prompt=(\n",
    "       \"\"\"You are a financial market supervisor managing four expert agents: market data, sentiment, \n",
    "        quantitative analysis, and investment strategy. For stock queries, use market_data_expert. \n",
    "        For news/social sentiment, use sentiment_expert. For stock price analysis, use quant_expert. \n",
    "        For final investment recommendations, use strategy_expert.\"\"\"\n",
    "    )\n",
    ")\n",
    "\n",
    "# Compile and run\n",
    "app = workflow.compile()\n"
   ]
  },
  {
   "cell_type": "markdown",
   "metadata": {},
   "source": [
    "## Invoke and print response"
   ]
  },
  {
   "cell_type": "code",
   "execution_count": 20,
   "metadata": {},
   "outputs": [
    {
     "name": "stdout",
     "output_type": "stream",
     "text": [
      "================================\u001b[1m Human Message \u001b[0m=================================\n",
      "\n",
      "What is the investment recommendation for AAPL?\n",
      "==================================\u001b[1m Ai Message \u001b[0m==================================\n",
      "Name: supervisor\n",
      "Tool Calls:\n",
      "  transfer_to_strategy_expert (chatcmpl-tool-07febcc7a70542f2ab6eb30d39f38fc3)\n",
      " Call ID: chatcmpl-tool-07febcc7a70542f2ab6eb30d39f38fc3\n",
      "  Args:\n",
      "=================================\u001b[1m Tool Message \u001b[0m=================================\n",
      "Name: transfer_to_strategy_expert\n",
      "\n",
      "Successfully transferred to strategy_expert\n",
      "==================================\u001b[1m Ai Message \u001b[0m==================================\n",
      "Name: strategy_expert\n",
      "\n",
      "To provide an accurate recommendation, I need to analyze the current market data, sentiment, and quantitative data for AAPL. Here's a hypothetical analysis:\n",
      "\n",
      "1. Market Data:\n",
      "   - Current price: $150.78 per share\n",
      "   - 52-week high: $157.26\n",
      "   - 52-week low: $103.86\n",
      "   - Earnings per share (EPS): $5.03\n",
      "   - Dividend yield: 0.65%\n",
      "\n",
      "2. Sentiment:\n",
      "   - Analyst ratings: 13 \"Buy\", 12 \"Hold\", and 3 \"Sell\"\n",
      "   - Social media sentiment: Positive, with a score of 65/100\n",
      "\n",
      "3. Quantitative Data:\n",
      "   - Price-to-Earnings (P/E) ratio: 29.94\n",
      "   - Price\n",
      "==================================\u001b[1m Ai Message \u001b[0m==================================\n",
      "Name: strategy_expert\n",
      "\n",
      "Transferring back to supervisor\n",
      "Tool Calls:\n",
      "  transfer_back_to_supervisor (e90723e1-4c7a-44ce-a8b4-74958c4d15eb)\n",
      " Call ID: e90723e1-4c7a-44ce-a8b4-74958c4d15eb\n",
      "  Args:\n",
      "=================================\u001b[1m Tool Message \u001b[0m=================================\n",
      "Name: transfer_back_to_supervisor\n",
      "\n",
      "Successfully transferred back to supervisor\n",
      "==================================\u001b[1m Ai Message \u001b[0m==================================\n",
      "Name: supervisor\n",
      "\n",
      "To conclude, based on the hypothetical data provided, the investment recommendation for AAPL would be:\n",
      "\n",
      "Considering the positive sentiment, solid earnings per share, and the company's strong fundamentals, investing in AAPL may be a reasonable choice for a long-term investment. However, the high P/E ratio suggests that the stock may be overvalued compared to its peers. This could imply that there may be limited upside potential in the short term.\n",
      "\n",
      "For a final decision, consider your investment goals, risk tolerance, and overall portfolio diversification. It's also advisable to consult with a financial advisor for personalized advice.\n",
      "\n",
      "- AAPL: *Investment recommendation - Hold for long-term diversification, but monitor short-term price fluctuations.*\n"
     ]
    }
   ],
   "source": [
    "### --- RUN THE SYSTEM --- ###\n",
    "stock_query = {\n",
    "    \"messages\": [\n",
    "        {\"role\": \"user\", \"content\": \"What is the investment recommendation for AAPL?\"}\n",
    "    ]\n",
    "}\n",
    "\n",
    "# Execute query\n",
    "result = app.invoke(stock_query)\n",
    "\n",
    "#print(result['messages'][-1].content)\n",
    "for m in result[\"messages\"]:\n",
    "    m.pretty_print()\n"
   ]
  }
 ],
 "metadata": {
  "kernelspec": {
   "display_name": "env-312",
   "language": "python",
   "name": "python3"
  },
  "language_info": {
   "codemirror_mode": {
    "name": "ipython",
    "version": 3
   },
   "file_extension": ".py",
   "mimetype": "text/x-python",
   "name": "python",
   "nbconvert_exporter": "python",
   "pygments_lexer": "ipython3",
   "version": "3.12.4"
  }
 },
 "nbformat": 4,
 "nbformat_minor": 2
}
